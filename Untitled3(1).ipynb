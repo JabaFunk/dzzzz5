{
  "cells": [
    {
      "cell_type": "code",
      "execution_count": 1,
      "metadata": {
        "trusted": true
      },
      "outputs": [],
      "source": [
        "import numpy as np\n",
        "import pandas as pd\n",
        "from scipy import stats"
      ]
    },
    {
      "cell_type": "markdown",
      "metadata": {},
      "source": [
        "Задача 1\n",
        "\n",
        "Когда используется критерий Стьюдента, а когда Z –критерий?\n",
        "\n",
        "1. Критерий Стьюдента предназначен для сравнения двух групп. Однако на практике он широко используется для оценки различий большего числа групп посредством попарного их сравнения.\n",
        "\n",
        "2. Z-критерий для двух выборок проверяет, отличаются ли две выборки. Он обычно используется, когда два обычных распределения имеют известные изменения, и когда в эксперименте используется большой размер выборки."
      ]
    },
    {
      "cell_type": "markdown",
      "metadata": {},
      "source": [
        "Задача 2\n",
        "\n",
        "Утверждается, что шариĸи для подшипниĸов, изготовленные автоматичесĸим станĸом,\n",
        "имеют средний диаметр 17 мм. Используя уровень значимости 0.025 и\n",
        "правостороннюю ĸритичесĸую область, проверить данную гипотезу при условии, что в\n",
        "выборĸе из 100 шариĸов средний диаметр оĸазался равным 17.5 мм, а дисперсия\n",
        "известна и равна 4 мм"
      ]
    },
    {
      "cell_type": "markdown",
      "metadata": {},
      "source": [
        "Решение:\n",
        "$a = 17, \\sigma^2 = 4, \\overline{X} = 17.5, n = 100, \\alpha = 0.025$"
      ]
    },
    {
      "cell_type": "markdown",
      "metadata": {},
      "source": [
        "Для проверки генеральной гипотезы $H_0: a = a_o=17$, используем случайную величину $$U = \\dfrac{(\\overline{X} - a_0)\\sqrt{n}}{\\sigma},$$ \n",
        "$$\\sigma = \\sqrt{4}, \\sigma = 2, $$\n",
        "Найдём критическую область. Для этого нужно найти критическое значение.$\\Phi(u_{кр}) = \\dfrac{1 - 2\\alpha}{2},$ для уровня значимости $\\alpha = 0.025,$\n",
        "$$\\Phi(u_{кр}) = \\dfrac{1 - 2*0.025}{2},$$ $$\\Phi(u_{кр}) = 0,475$$\n",
        "По таблице значений функции Лапласа $u_{кр}\\approx  1.96$"
      ]
    },
    {
      "cell_type": "code",
      "execution_count": 10,
      "metadata": {
        "trusted": true
      },
      "outputs": [
        {
          "name": "stdout",
          "output_type": "stream",
          "text": [
            " наблюдаемое значение критерия:2.5\n"
          ]
        }
      ],
      "source": [
        "u = ((17.5 -  17)*np.sqrt(100))/2\n",
        "print(f' наблюдаемое значение критерия:{u}')"
      ]
    },
    {
      "cell_type": "markdown",
      "metadata": {},
      "source": [
        "на уровне значимости 0,025 нулевую гипотезу не принимаем.Т.к в случайной выборке средний размер попадает в критическую область."
      ]
    },
    {
      "cell_type": "markdown",
      "metadata": {},
      "source": [
        "Задание 3\n",
        "\n",
        "Продавец утверждает, что средний вес пачки печенья составляет 200 г. Из партии извлечена выборка из 10 пачек. Вес каждой пачки составляет:\n",
        "\n",
        "202, 203, 199, 197, 195, 201, 200, 204, 194, 190\n",
        "\n",
        "Известно, что их веса распределены нормально. Верно ли утверждение продавца, если учитывать, что доверительная вероятность равна 99%?\n",
        "\n",
        "Решение:"
      ]
    },
    {
      "cell_type": "code",
      "execution_count": 2,
      "metadata": {
        "trusted": true
      },
      "outputs": [],
      "source": [
        "n = 10\n",
        "alpha = 0.01\n",
        "\n",
        "samples = np.array([202, 203, 199, 197, 195, 201, 200, 204, 194, 190])"
      ]
    },
    {
      "cell_type": "code",
      "execution_count": 3,
      "metadata": {
        "trusted": true
      },
      "outputs": [
        {
          "data": {
            "text/plain": [
              "198.5"
            ]
          },
          "execution_count": 3,
          "metadata": {},
          "output_type": "execute_result"
        }
      ],
      "source": [
        "m = samples.mean()\n",
        "m"
      ]
    },
    {
      "cell_type": "code",
      "execution_count": 4,
      "metadata": {
        "trusted": true
      },
      "outputs": [
        {
          "data": {
            "text/plain": [
              "4.453463071962462"
            ]
          },
          "execution_count": 4,
          "metadata": {},
          "output_type": "execute_result"
        }
      ],
      "source": [
        "s = samples.std(ddof=1)\n",
        "s"
      ]
    },
    {
      "cell_type": "code",
      "execution_count": 5,
      "metadata": {
        "trusted": true
      },
      "outputs": [],
      "source": [
        "# n-1\n",
        "t_obj = stats.t(n - 1)"
      ]
    },
    {
      "cell_type": "code",
      "execution_count": 6,
      "metadata": {
        "trusted": true
      },
      "outputs": [
        {
          "data": {
            "text/plain": [
              "3.2498355440153697"
            ]
          },
          "execution_count": 6,
          "metadata": {},
          "output_type": "execute_result"
        }
      ],
      "source": [
        "# 1 - alpha / 2\n",
        "t = t_obj.ppf(1 - alpha / 2)\n",
        "t"
      ]
    },
    {
      "cell_type": "code",
      "execution_count": 7,
      "metadata": {
        "trusted": true
      },
      "outputs": [
        {
          "data": {
            "text/plain": [
              "(193.92322840036354, 203.07677159963646)"
            ]
          },
          "execution_count": 7,
          "metadata": {},
          "output_type": "execute_result"
        }
      ],
      "source": [
        "(m - t * s / np.sqrt(n), m + t * s / np.sqrt(n))\n"
      ]
    },
    {
      "cell_type": "markdown",
      "metadata": {},
      "source": [
        "Ответ:\n",
        "\n",
        "Утверждение продавца верно, т.к. оно попадает в доверительный интервал."
      ]
    }
  ],
  "metadata": {
    "kernelspec": {
      "display_name": "Python 3",
      "language": "python",
      "name": "python3"
    },
    "language_info": {
      "codemirror_mode": {
        "name": "python",
        "version": 3
      },
      "file_extension": ".py",
      "mimetype": "text/x-python",
      "name": "python",
      "nbconvert_exporter": "python",
      "pygments_lexer": "ipython3",
      "version": "3.10.6"
    },
    "vscode": {
      "interpreter": {
        "hash": "916dbcbb3f70747c44a77c7bcd40155683ae19c65e1c03b4aa3499c5328201f1"
      }
    }
  },
  "nbformat": 4,
  "nbformat_minor": 4
}
